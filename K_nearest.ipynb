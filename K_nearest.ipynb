{
  "nbformat": 4,
  "nbformat_minor": 0,
  "metadata": {
    "kernelspec": {
      "display_name": "Python 3",
      "language": "python",
      "name": "python3"
    },
    "language_info": {
      "codemirror_mode": {
        "name": "ipython",
        "version": 3
      },
      "file_extension": ".py",
      "mimetype": "text/x-python",
      "name": "python",
      "nbconvert_exporter": "python",
      "pygments_lexer": "ipython3",
      "version": "3.8.1"
    },
    "colab": {
      "name": "K-nearest.ipynb",
      "provenance": []
    }
  },
  "cells": [
    {
      "cell_type": "code",
      "metadata": {
        "colab": {
          "base_uri": "https://localhost:8080/"
        },
        "id": "d8kNqtuIW717",
        "outputId": "54028c6e-7811-42a0-84cb-918eb544b058"
      },
      "source": [
        "import pandas as pd\n",
        "import numpy as np\n",
        "import seaborn as sns\n",
        "import matplotlib.pyplot as plt\n",
        "import pandas as pd\n",
        "import tweepy\n",
        "import math\n",
        "import nltk\n",
        "import re\n",
        "from nltk.corpus import stopwords\n",
        "from nltk.stem import PorterStemmer\n",
        "from nltk.stem import WordNetLemmatizer\n",
        "from sklearn.model_selection import train_test_split\n",
        "from sklearn import metrics\n",
        "from sklearn.neighbors import KNeighborsClassifier\n",
        "from sklearn.preprocessing import MinMaxScaler\n",
        "nltk.download('punkt')\n",
        "from sklearn.feature_extraction.text import CountVectorizer\n",
        "nltk.download('wordnet')"
      ],
      "execution_count": null,
      "outputs": [
        {
          "output_type": "stream",
          "name": "stdout",
          "text": [
            "[nltk_data] Downloading package punkt to /root/nltk_data...\n",
            "[nltk_data]   Unzipping tokenizers/punkt.zip.\n",
            "[nltk_data] Downloading package wordnet to /root/nltk_data...\n",
            "[nltk_data]   Unzipping corpora/wordnet.zip.\n"
          ]
        },
        {
          "output_type": "execute_result",
          "data": {
            "text/plain": [
              "True"
            ]
          },
          "metadata": {},
          "execution_count": 1
        }
      ]
    },
    {
      "cell_type": "code",
      "metadata": {
        "id": "6xv8wRcoW72G"
      },
      "source": [
        "df=pd.read_csv('medellin_tweets_labeled.csv', sep =',')"
      ],
      "execution_count": null,
      "outputs": []
    },
    {
      "cell_type": "code",
      "metadata": {
        "id": "LAJ6tsX5Xrde"
      },
      "source": [
        "def polarity(message):\n",
        "    if(message==1):\n",
        "        return('positive')\n",
        "    else:\n",
        "        return('negative')\n",
        "\n",
        "df.dropna(inplace=True)\n",
        "df['label']=df['sentiment'].apply(polarity)\n",
        "df = df.rename(columns={'sentiment':'label','label':'sentiment'})\n"
      ],
      "execution_count": null,
      "outputs": []
    },
    {
      "cell_type": "code",
      "metadata": {
        "colab": {
          "base_uri": "https://localhost:8080/",
          "height": 677
        },
        "id": "79O8CDbkW72I",
        "outputId": "c71ce7e5-79a0-4eac-90e1-aa94925fc924"
      },
      "source": [
        "df.head(20)"
      ],
      "execution_count": null,
      "outputs": [
        {
          "output_type": "execute_result",
          "data": {
            "text/html": [
              "<div>\n",
              "<style scoped>\n",
              "    .dataframe tbody tr th:only-of-type {\n",
              "        vertical-align: middle;\n",
              "    }\n",
              "\n",
              "    .dataframe tbody tr th {\n",
              "        vertical-align: top;\n",
              "    }\n",
              "\n",
              "    .dataframe thead th {\n",
              "        text-align: right;\n",
              "    }\n",
              "</style>\n",
              "<table border=\"1\" class=\"dataframe\">\n",
              "  <thead>\n",
              "    <tr style=\"text-align: right;\">\n",
              "      <th></th>\n",
              "      <th>full_text</th>\n",
              "      <th>label</th>\n",
              "      <th>sentiment</th>\n",
              "    </tr>\n",
              "  </thead>\n",
              "  <tbody>\n",
              "    <tr>\n",
              "      <th>0</th>\n",
              "      <td>@hugouribev: @isamg6 @MOinternationa @petrogus...</td>\n",
              "      <td>0.0</td>\n",
              "      <td>negative</td>\n",
              "    </tr>\n",
              "    <tr>\n",
              "      <th>1</th>\n",
              "      <td>@maridelas18: Fueraaa, Petro de Medellín</td>\n",
              "      <td>0.0</td>\n",
              "      <td>negative</td>\n",
              "    </tr>\n",
              "    <tr>\n",
              "      <th>2</th>\n",
              "      <td>@MunozEnith: Medellín se lució hoy. El repudio...</td>\n",
              "      <td>0.0</td>\n",
              "      <td>negative</td>\n",
              "    </tr>\n",
              "    <tr>\n",
              "      <th>3</th>\n",
              "      <td>@isamg6: La historia contará que en Medellín s...</td>\n",
              "      <td>0.0</td>\n",
              "      <td>negative</td>\n",
              "    </tr>\n",
              "    <tr>\n",
              "      <th>4</th>\n",
              "      <td>@funurbiano: Los del asalto a la fundidora de ...</td>\n",
              "      <td>0.0</td>\n",
              "      <td>negative</td>\n",
              "    </tr>\n",
              "    <tr>\n",
              "      <th>5</th>\n",
              "      <td>@Don_Patriota1: Me acabo d enterar que al Sena...</td>\n",
              "      <td>0.0</td>\n",
              "      <td>negative</td>\n",
              "    </tr>\n",
              "    <tr>\n",
              "      <th>6</th>\n",
              "      <td>@JoseMejiaCD: Abramos hilo de la abucheada tan...</td>\n",
              "      <td>0.0</td>\n",
              "      <td>negative</td>\n",
              "    </tr>\n",
              "    <tr>\n",
              "      <th>7</th>\n",
              "      <td>@Leo_uribista: ‼️Hermoso…así fue tratado en su...</td>\n",
              "      <td>1.0</td>\n",
              "      <td>positive</td>\n",
              "    </tr>\n",
              "    <tr>\n",
              "      <th>8</th>\n",
              "      <td>@Nicols03804032: Hoy en el centro de Medellín,...</td>\n",
              "      <td>1.0</td>\n",
              "      <td>positive</td>\n",
              "    </tr>\n",
              "    <tr>\n",
              "      <th>9</th>\n",
              "      <td>Me parece súper bien el rechazo a Petro en #Me...</td>\n",
              "      <td>0.0</td>\n",
              "      <td>negative</td>\n",
              "    </tr>\n",
              "    <tr>\n",
              "      <th>10</th>\n",
              "      <td>@petrogustavo: Con el magisterio de Antioquia ...</td>\n",
              "      <td>1.0</td>\n",
              "      <td>positive</td>\n",
              "    </tr>\n",
              "    <tr>\n",
              "      <th>11</th>\n",
              "      <td>@Leo_uribista: ‼️-Terrorista!!!… le grita el p...</td>\n",
              "      <td>0.0</td>\n",
              "      <td>negative</td>\n",
              "    </tr>\n",
              "    <tr>\n",
              "      <th>12</th>\n",
              "      <td>Qué tal el dictador Quintero Calle... por esta...</td>\n",
              "      <td>0.0</td>\n",
              "      <td>negative</td>\n",
              "    </tr>\n",
              "    <tr>\n",
              "      <th>13</th>\n",
              "      <td>@FisicoImpuro: Petro en Medellín mueve más gen...</td>\n",
              "      <td>1.0</td>\n",
              "      <td>positive</td>\n",
              "    </tr>\n",
              "    <tr>\n",
              "      <th>14</th>\n",
              "      <td>@NoticiasRCN hace reconocimiento a @SapienciaM...</td>\n",
              "      <td>1.0</td>\n",
              "      <td>positive</td>\n",
              "    </tr>\n",
              "    <tr>\n",
              "      <th>15</th>\n",
              "      <td>@anamarqr: ¡Fuera de Medellín! https://t.co/OP...</td>\n",
              "      <td>0.0</td>\n",
              "      <td>negative</td>\n",
              "    </tr>\n",
              "    <tr>\n",
              "      <th>16</th>\n",
              "      <td>@RUBYELENA1: Así quieren a Petro en #Medellín....</td>\n",
              "      <td>1.0</td>\n",
              "      <td>positive</td>\n",
              "    </tr>\n",
              "    <tr>\n",
              "      <th>17</th>\n",
              "      <td>@eljosequillero: @JoseMejiaCD No llegan ni a 5...</td>\n",
              "      <td>0.0</td>\n",
              "      <td>negative</td>\n",
              "    </tr>\n",
              "    <tr>\n",
              "      <th>18</th>\n",
              "      <td>@MargaritaRepo @MaraClaudiaOrt1 Medellín empez...</td>\n",
              "      <td>1.0</td>\n",
              "      <td>positive</td>\n",
              "    </tr>\n",
              "    <tr>\n",
              "      <th>19</th>\n",
              "      <td>@OscarOrtizE2: Abucheado el guerrillero Petro ...</td>\n",
              "      <td>0.0</td>\n",
              "      <td>negative</td>\n",
              "    </tr>\n",
              "  </tbody>\n",
              "</table>\n",
              "</div>"
            ],
            "text/plain": [
              "                                            full_text  label sentiment\n",
              "0   @hugouribev: @isamg6 @MOinternationa @petrogus...    0.0  negative\n",
              "1            @maridelas18: Fueraaa, Petro de Medellín    0.0  negative\n",
              "2   @MunozEnith: Medellín se lució hoy. El repudio...    0.0  negative\n",
              "3   @isamg6: La historia contará que en Medellín s...    0.0  negative\n",
              "4   @funurbiano: Los del asalto a la fundidora de ...    0.0  negative\n",
              "5   @Don_Patriota1: Me acabo d enterar que al Sena...    0.0  negative\n",
              "6   @JoseMejiaCD: Abramos hilo de la abucheada tan...    0.0  negative\n",
              "7   @Leo_uribista: ‼️Hermoso…así fue tratado en su...    1.0  positive\n",
              "8   @Nicols03804032: Hoy en el centro de Medellín,...    1.0  positive\n",
              "9   Me parece súper bien el rechazo a Petro en #Me...    0.0  negative\n",
              "10  @petrogustavo: Con el magisterio de Antioquia ...    1.0  positive\n",
              "11  @Leo_uribista: ‼️-Terrorista!!!… le grita el p...    0.0  negative\n",
              "12  Qué tal el dictador Quintero Calle... por esta...    0.0  negative\n",
              "13  @FisicoImpuro: Petro en Medellín mueve más gen...    1.0  positive\n",
              "14  @NoticiasRCN hace reconocimiento a @SapienciaM...    1.0  positive\n",
              "15  @anamarqr: ¡Fuera de Medellín! https://t.co/OP...    0.0  negative\n",
              "16  @RUBYELENA1: Así quieren a Petro en #Medellín....    1.0  positive\n",
              "17  @eljosequillero: @JoseMejiaCD No llegan ni a 5...    0.0  negative\n",
              "18  @MargaritaRepo @MaraClaudiaOrt1 Medellín empez...    1.0  positive\n",
              "19  @OscarOrtizE2: Abucheado el guerrillero Petro ...    0.0  negative"
            ]
          },
          "metadata": {},
          "execution_count": 4
        }
      ]
    },
    {
      "cell_type": "code",
      "metadata": {
        "id": "YXUp1kmufMYu"
      },
      "source": [
        "feature_cols = ['label']\n",
        "X = df[feature_cols] # Features\n",
        "y = df.label "
      ],
      "execution_count": null,
      "outputs": []
    },
    {
      "cell_type": "code",
      "metadata": {
        "id": "llj3HQYWfXxj"
      },
      "source": [
        "X = df['label'].values\n",
        "y = df['label'].values\n",
        " \n",
        "X_train, X_test, y_train, y_test = train_test_split(X, y, random_state=0)\n",
        "scaler = MinMaxScaler()\n",
        "X_train = scaler.fit_transform(X_train.reshape(-1, 1))\n",
        "X_test = scaler.transform(X_test.reshape(-1, 1))"
      ],
      "execution_count": null,
      "outputs": []
    },
    {
      "cell_type": "code",
      "metadata": {
        "colab": {
          "base_uri": "https://localhost:8080/"
        },
        "id": "75J07uzoiSJY",
        "outputId": "2f4a17e9-e0fd-40f0-fd0d-58d2eda9d9fb"
      },
      "source": [
        "n_neighbors = 7\n",
        " \n",
        "knn = KNeighborsClassifier(n_neighbors)\n",
        "knn.fit(X_train, y_train)\n",
        "print('Accuracy of K-NN classifier on training set: {:.2f}'\n",
        "     .format(knn.score(X_train, y_train)))\n",
        "print('Accuracy of K-NN classifier on test set: {:.2f}'\n",
        "     .format(knn.score(X_test, y_test)))"
      ],
      "execution_count": null,
      "outputs": [
        {
          "output_type": "stream",
          "name": "stdout",
          "text": [
            "Accuracy of K-NN classifier on training set: 1.00\n",
            "Accuracy of K-NN classifier on test set: 1.00\n"
          ]
        }
      ]
    },
    {
      "cell_type": "code",
      "metadata": {
        "colab": {
          "base_uri": "https://localhost:8080/"
        },
        "id": "AqedI6KIiSvn",
        "outputId": "b820c78a-ce26-4e96-91b9-f500b6b412f7"
      },
      "source": [
        "pred = knn.predict(X_test)\n",
        "print(metrics.confusion_matrix(y_test, pred))\n",
        "print(metrics.classification_report(y_test, pred))"
      ],
      "execution_count": null,
      "outputs": [
        {
          "output_type": "stream",
          "name": "stdout",
          "text": [
            "[[65  0]\n",
            " [ 0 41]]\n",
            "              precision    recall  f1-score   support\n",
            "\n",
            "         0.0       1.00      1.00      1.00        65\n",
            "         1.0       1.00      1.00      1.00        41\n",
            "\n",
            "    accuracy                           1.00       106\n",
            "   macro avg       1.00      1.00      1.00       106\n",
            "weighted avg       1.00      1.00      1.00       106\n",
            "\n"
          ]
        }
      ]
    }
  ]
}